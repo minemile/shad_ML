{
 "cells": [
  {
   "cell_type": "code",
   "execution_count": 254,
   "metadata": {},
   "outputs": [],
   "source": [
    "import pandas as pd\n",
    "import numpy as np\n",
    "import seaborn as sns\n",
    "from sklearn.decomposition import PCA\n",
    "from sklearn.preprocessing import StandardScaler, MinMaxScaler, PolynomialFeatures\n",
    "from sklearn.pipeline import Pipeline, FeatureUnion\n",
    "from sklearn.model_selection import train_test_split, cross_val_score, StratifiedKFold, GridSearchCV, StratifiedShuffleSplit, learning_curve\n",
    "from sklearn.linear_model import LogisticRegression\n",
    "from sklearn.ensemble import RandomForestClassifier\n",
    "from sklearn.preprocessing import PolynomialFeatures\n",
    "from sklearn.metrics import confusion_matrix, f1_score, roc_curve, classification_report\n",
    "from sklearn.base import BaseEstimator, TransformerMixin\n",
    "from sklearn.feature_selection import SelectFromModel, SelectKBest, chi2, f_classif, SelectFpr\n",
    "from sklearn.ensemble import RandomForestClassifier\n",
    "import tensorflow as tf\n",
    "import pylab as plt\n",
    "import mglearn\n",
    "from keras.models import Sequential\n",
    "from keras.layers import Dense, Activation, Dropout, Flatten\n",
    "from keras.wrappers.scikit_learn import KerasClassifier\n",
    "%matplotlib inline"
   ]
  },
  {
   "cell_type": "code",
   "execution_count": 2,
   "metadata": {
    "collapsed": true
   },
   "outputs": [],
   "source": [
    "def learning_curve_model(X, Y, model, cv, train_sizes):\n",
    "    \"\"\"Кривая обучения\"\"\"\n",
    "    plt.figure(figsize=(10, 10))\n",
    "    plt.title(\"Learning curve\")\n",
    "    plt.xlabel(\"Training examples\")\n",
    "    plt.ylabel(\"Score\")\n",
    "\n",
    "\n",
    "    train_sizes, train_scores, test_scores = learning_curve(model, X, Y, cv=cv, n_jobs=4, train_sizes=train_sizes)\n",
    "\n",
    "    train_scores_mean = np.mean(train_scores, axis=1)\n",
    "    train_scores_std  = np.std(train_scores, axis=1)\n",
    "    test_scores_mean  = np.mean(test_scores, axis=1)\n",
    "    test_scores_std   = np.std(test_scores, axis=1)\n",
    "    plt.grid()\n",
    "    \n",
    "    plt.fill_between(train_sizes, train_scores_mean - train_scores_std,train_scores_mean + train_scores_std, alpha=0.1,\n",
    "                     color=\"r\")\n",
    "    plt.fill_between(train_sizes, test_scores_mean - test_scores_std,test_scores_mean + test_scores_std, alpha=0.1, color=\"g\")\n",
    "    plt.plot(train_sizes, train_scores_mean, 'o-', color=\"r\",label=\"Training score\")\n",
    "    plt.plot(train_sizes, test_scores_mean, 'o-', color=\"g\",label=\"Cross-validation score\")\n",
    "                     \n",
    "    plt.legend(loc=\"best\")\n",
    "    return plt"
   ]
  },
  {
   "cell_type": "code",
   "execution_count": 3,
   "metadata": {
    "collapsed": true
   },
   "outputs": [],
   "source": [
    "class NullColumnsCleaner(BaseEstimator, TransformerMixin):\n",
    "    \n",
    "    def fit(self, X, y=None):\n",
    "        return self\n",
    "    \n",
    "    def transform(self, X, y=None):\n",
    "        nulls = X.isnull().sum()\n",
    "        nulls_keys = nulls[nulls > 50].keys()\n",
    "        return X.drop(nulls_keys, axis=1).dropna()"
   ]
  },
  {
   "cell_type": "code",
   "execution_count": 311,
   "metadata": {
    "collapsed": true
   },
   "outputs": [],
   "source": [
    "data = pd.read_excel('Data.xlsm')\n",
    "data = NullColumnsCleaner().fit_transform(data).reset_index(drop=True)\n",
    "#data = data.dropna().reset_index(drop=True)\n",
    "\n",
    "X = data.drop([\"DisNeuro01\",  \"Stroke(AIS,TIA,AHS)\"], axis=1)\n",
    "y = data[\"DisNeuro01\"].copy()\n",
    "split = StratifiedShuffleSplit(n_splits=1, test_size=0.2, random_state=42)\n",
    "for train_index, test_index in split.split(X, y):\n",
    "    strat_train = data.loc[train_index]\n",
    "    strat_test = data.loc[test_index]\n",
    "    \n",
    "X_train = strat_train.drop([\"DisNeuro01\",  \"Stroke(AIS,TIA,AHS)\"], axis=1)\n",
    "y_train = strat_train[\"DisNeuro01\"].copy()\n",
    "X_test = strat_test.drop([\"DisNeuro01\",  \"Stroke(AIS,TIA,AHS)\"], axis=1)\n",
    "y_test = strat_test[\"DisNeuro01\"].copy()"
   ]
  },
  {
   "cell_type": "code",
   "execution_count": 346,
   "metadata": {},
   "outputs": [
    {
     "name": "stdout",
     "output_type": "stream",
     "text": [
      "(114, 47)\n"
     ]
    }
   ],
   "source": [
    "prep_pipe = Pipeline([('poly_feature', PolynomialFeatures(interaction_only=True)),]).fit(X_train)\n",
    "X_train_prep = prep_pipe.transform(X_train)\n",
    "X_test_prep = prep_pipe.transform(X_test)\n",
    "\n",
    "clf = ExtraTreesClassifier()\n",
    "clf = clf.fit(X_train_prep, y_train)\n",
    "model = SelectFromModel(clf, prefit=True)\n",
    "#model = SelectFpr(f_classif).fit(X_train_prep, y_train)\n",
    "#model = SelectKBest(chi2, k=20).fit(X_train_prep, y_train)\n",
    "X_new_train = model.transform(X_train_prep)\n",
    "X_new_test = model.transform(X_test_prep)\n",
    "print(X_new_train.shape)"
   ]
  },
  {
   "cell_type": "code",
   "execution_count": 353,
   "metadata": {},
   "outputs": [
    {
     "name": "stdout",
     "output_type": "stream",
     "text": [
      "29/29 [==============================] - 0s\n",
      "[0.8848273754119873, 0.62068963050842285]\n"
     ]
    }
   ],
   "source": [
    "X_tr = X_new_train\n",
    "X_te = X_new_test\n",
    "model = Sequential()\n",
    "model.add(Dense(40, input_dim=X_tr.shape[1], activation='relu'))\n",
    "#model.add(Dropout(0.5))\n",
    "#model.add(Dense(10, activation='relu'))\n",
    "#model.add(Dropout(0.5))\n",
    "model.add(Dense(1, activation='sigmoid'))\n",
    "model.compile(loss='binary_crossentropy', optimizer='adam', metrics=['accuracy'])\n",
    "model.fit(X_tr, y_train.values.reshape(-1, 1), epochs=100, verbose=0, validation_data=(X_te, y_test.values))\n",
    "print(model.evaluate(X_te, y_test.values))"
   ]
  },
  {
   "cell_type": "code",
   "execution_count": 354,
   "metadata": {},
   "outputs": [
    {
     "name": "stderr",
     "output_type": "stream",
     "text": [
      "/home/user/Desktop/machine_learning/myvenv/lib/python3.6/site-packages/tensorflow/python/util/deprecation.py:248: FutureWarning: comparison to `None` will result in an elementwise object comparison in the future.\n",
      "  equality = a == b\n"
     ]
    },
    {
     "data": {
      "text/plain": [
       "{'accuracy': 0.48275861,\n",
       " 'accuracy/baseline_label_mean': 0.48275861,\n",
       " 'accuracy/threshold_0.500000_mean': 0.48275861,\n",
       " 'auc': 0.54761904,\n",
       " 'global_step': 300,\n",
       " 'labels/actual_label_mean': 0.48275861,\n",
       " 'labels/prediction_mean': 0.46441624,\n",
       " 'loss': 1.9080863,\n",
       " 'precision/positive_threshold_0.500000_mean': 0.46153846,\n",
       " 'recall/positive_threshold_0.500000_mean': 0.42857143}"
      ]
     },
     "execution_count": 354,
     "metadata": {},
     "output_type": "execute_result"
    }
   ],
   "source": [
    "def get_train_inputs():\n",
    "    x = tf.constant(X_tr)\n",
    "    y = tf.constant(y_train.values)\n",
    "\n",
    "    return x, y\n",
    "\n",
    "tf.logging.set_verbosity(tf.logging.ERROR)\n",
    "feature_columns = tf.contrib.learn.infer_real_valued_columns_from_input(X_tr)\n",
    "dnn_clf = tf.contrib.learn.DNNClassifier(hidden_units=[40, 20], n_classes=2, feature_columns=feature_columns)\n",
    "dnn_clf.fit(input_fn=get_train_inputs, steps=300)\n",
    "dnn_clf.evaluate(X_te, y_test.values, steps=1)"
   ]
  },
  {
   "cell_type": "code",
   "execution_count": 355,
   "metadata": {},
   "outputs": [
    {
     "name": "stdout",
     "output_type": "stream",
     "text": [
      "[[ 0.07022304  0.01963894 -0.09562147 ...,  0.21451265 -0.10202125\n",
      "  -0.29104653]\n",
      " [ 0.0274011   0.04265553 -0.17784394 ..., -0.19714531  0.04068512\n",
      "   0.03098069]\n",
      " [ 0.30032614 -0.39405358 -0.12452837 ..., -0.3665016  -0.21119604\n",
      "  -0.10556354]\n",
      " ..., \n",
      " [-0.27000073  0.0360661   0.02590852 ...,  0.24353525 -0.16821069\n",
      "   0.13587095]\n",
      " [ 0.21006039 -0.27518669 -0.23353732 ...,  0.08160054 -0.06464237\n",
      "   0.07504508]\n",
      " [-0.23072854  0.14799185 -0.16450757 ..., -0.04847949  0.29932025\n",
      "  -0.04206764]]\n",
      "[[-0.1300237 ]\n",
      " [ 0.32955766]\n",
      " [ 0.37371755]\n",
      " [-0.11488052]\n",
      " [ 0.18006392]\n",
      " [-0.17435811]\n",
      " [ 0.51251978]\n",
      " [-0.31183073]\n",
      " [-0.40609482]\n",
      " [ 0.29470089]\n",
      " [ 0.23230675]\n",
      " [ 0.26352566]\n",
      " [-0.36774698]\n",
      " [ 0.43156052]\n",
      " [-0.32761279]\n",
      " [-0.19082861]\n",
      " [ 0.16531532]\n",
      " [-0.18332806]\n",
      " [-0.20882291]\n",
      " [ 0.23127972]\n",
      " [ 0.0962158 ]\n",
      " [ 0.64265615]\n",
      " [-0.04209156]\n",
      " [ 0.42647254]\n",
      " [-0.46566743]\n",
      " [-0.08309542]\n",
      " [ 0.12557921]\n",
      " [-0.27126643]\n",
      " [-0.19862708]\n",
      " [ 0.43681416]\n",
      " [-0.14535341]\n",
      " [-0.4568108 ]\n",
      " [ 0.29668903]\n",
      " [ 0.25066686]\n",
      " [-0.23434724]\n",
      " [-0.28241095]\n",
      " [-0.58445078]\n",
      " [ 0.22466321]\n",
      " [ 0.12895285]\n",
      " [-0.63007087]]\n"
     ]
    }
   ],
   "source": [
    "for layer in model.layers:\n",
    "    print(layer.get_weights()[0])"
   ]
  },
  {
   "cell_type": "code",
   "execution_count": null,
   "metadata": {
    "collapsed": true
   },
   "outputs": [],
   "source": []
  }
 ],
 "metadata": {
  "kernelspec": {
   "display_name": "Python 3",
   "language": "python",
   "name": "python3"
  },
  "language_info": {
   "codemirror_mode": {
    "name": "ipython",
    "version": 3
   },
   "file_extension": ".py",
   "mimetype": "text/x-python",
   "name": "python",
   "nbconvert_exporter": "python",
   "pygments_lexer": "ipython3",
   "version": "3.6.1"
  }
 },
 "nbformat": 4,
 "nbformat_minor": 2
}
