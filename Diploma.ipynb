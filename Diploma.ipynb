{
 "cells": [
  {
   "cell_type": "markdown",
   "metadata": {},
   "source": [
    "# Приложение к диплому\n",
    "Создание, обучение и анализ моделей"
   ]
  },
  {
   "cell_type": "markdown",
   "metadata": {},
   "source": [
    "** Импортирование библиотек **"
   ]
  },
  {
   "cell_type": "code",
   "execution_count": 285,
   "metadata": {
    "collapsed": true
   },
   "outputs": [],
   "source": [
    "import pandas as pd\n",
    "import numpy as np\n",
    "import seaborn as sns\n",
    "from sklearn.decomposition import PCA\n",
    "from sklearn.preprocessing import StandardScaler, LabelBinarizer\n",
    "from sklearn.pipeline import Pipeline, FeatureUnion\n",
    "from sklearn.model_selection import train_test_split, cross_val_score, GridSearchCV, StratifiedKFold, learning_curve\n",
    "from sklearn.linear_model import LogisticRegression\n",
    "from sklearn.ensemble import RandomForestClassifier\n",
    "from sklearn.preprocessing import PolynomialFeatures\n",
    "from sklearn.metrics import confusion_matrix, f1_score, roc_curve, classification_report\n",
    "import pylab as plt\n",
    "import mglearn\n",
    "%matplotlib inline"
   ]
  },
  {
   "cell_type": "markdown",
   "metadata": {},
   "source": [
    "## Чтение данных и первый взгляд"
   ]
  },
  {
   "cell_type": "markdown",
   "metadata": {},
   "source": [
    "Первые пять строк данных"
   ]
  },
  {
   "cell_type": "code",
   "execution_count": 19,
   "metadata": {},
   "outputs": [
    {
     "data": {
      "text/html": [
       "<div>\n",
       "<table border=\"1\" class=\"dataframe\">\n",
       "  <thead>\n",
       "    <tr style=\"text-align: right;\">\n",
       "      <th></th>\n",
       "      <th>Stroke(AIS,TIA,AHS)</th>\n",
       "      <th>Sex01</th>\n",
       "      <th>StrokeAge</th>\n",
       "      <th>gFGB</th>\n",
       "      <th>gF2</th>\n",
       "      <th>gF5</th>\n",
       "      <th>gF7VII</th>\n",
       "      <th>gF13</th>\n",
       "      <th>gITGA</th>\n",
       "      <th>gITGB</th>\n",
       "      <th>...</th>\n",
       "      <th>gADD1 1378 G&gt;T</th>\n",
       "      <th>gAGT T704C</th>\n",
       "      <th>gAGT C521T</th>\n",
       "      <th>gAGTR1 A 1166C</th>\n",
       "      <th>gAGTR2 G1675A</th>\n",
       "      <th>gCYP11B2 C344T</th>\n",
       "      <th>gGNB3 825C&gt;T</th>\n",
       "      <th>gNOS3 T786C</th>\n",
       "      <th>gNOS3 G894T</th>\n",
       "      <th>DisNeuro01</th>\n",
       "    </tr>\n",
       "  </thead>\n",
       "  <tbody>\n",
       "    <tr>\n",
       "      <th>0</th>\n",
       "      <td>AIS</td>\n",
       "      <td>1</td>\n",
       "      <td>1.0</td>\n",
       "      <td>0</td>\n",
       "      <td>0</td>\n",
       "      <td>0</td>\n",
       "      <td>0.0</td>\n",
       "      <td>1.0</td>\n",
       "      <td>2.0</td>\n",
       "      <td>0.0</td>\n",
       "      <td>...</td>\n",
       "      <td>NaN</td>\n",
       "      <td>NaN</td>\n",
       "      <td>NaN</td>\n",
       "      <td>NaN</td>\n",
       "      <td>NaN</td>\n",
       "      <td>NaN</td>\n",
       "      <td>NaN</td>\n",
       "      <td>0.0</td>\n",
       "      <td>2.0</td>\n",
       "      <td>0</td>\n",
       "    </tr>\n",
       "    <tr>\n",
       "      <th>1</th>\n",
       "      <td>AIS</td>\n",
       "      <td>1</td>\n",
       "      <td>3.0</td>\n",
       "      <td>0</td>\n",
       "      <td>0</td>\n",
       "      <td>0</td>\n",
       "      <td>0.0</td>\n",
       "      <td>0.0</td>\n",
       "      <td>2.0</td>\n",
       "      <td>0.0</td>\n",
       "      <td>...</td>\n",
       "      <td>0.0</td>\n",
       "      <td>1.0</td>\n",
       "      <td>0.0</td>\n",
       "      <td>0.0</td>\n",
       "      <td>2.0</td>\n",
       "      <td>1.0</td>\n",
       "      <td>1.0</td>\n",
       "      <td>1.0</td>\n",
       "      <td>1.0</td>\n",
       "      <td>0</td>\n",
       "    </tr>\n",
       "    <tr>\n",
       "      <th>2</th>\n",
       "      <td>AIS</td>\n",
       "      <td>0</td>\n",
       "      <td>5.0</td>\n",
       "      <td>0</td>\n",
       "      <td>0</td>\n",
       "      <td>0</td>\n",
       "      <td>0.0</td>\n",
       "      <td>1.0</td>\n",
       "      <td>1.0</td>\n",
       "      <td>2.0</td>\n",
       "      <td>...</td>\n",
       "      <td>1.0</td>\n",
       "      <td>2.0</td>\n",
       "      <td>1.0</td>\n",
       "      <td>0.0</td>\n",
       "      <td>2.0</td>\n",
       "      <td>1.0</td>\n",
       "      <td>0.0</td>\n",
       "      <td>2.0</td>\n",
       "      <td>0.0</td>\n",
       "      <td>0</td>\n",
       "    </tr>\n",
       "    <tr>\n",
       "      <th>3</th>\n",
       "      <td>AIS</td>\n",
       "      <td>1</td>\n",
       "      <td>0.0</td>\n",
       "      <td>0</td>\n",
       "      <td>0</td>\n",
       "      <td>0</td>\n",
       "      <td>0.0</td>\n",
       "      <td>0.0</td>\n",
       "      <td>2.0</td>\n",
       "      <td>1.0</td>\n",
       "      <td>...</td>\n",
       "      <td>0.0</td>\n",
       "      <td>1.0</td>\n",
       "      <td>1.0</td>\n",
       "      <td>0.0</td>\n",
       "      <td>2.0</td>\n",
       "      <td>1.0</td>\n",
       "      <td>2.0</td>\n",
       "      <td>1.0</td>\n",
       "      <td>1.0</td>\n",
       "      <td>0</td>\n",
       "    </tr>\n",
       "    <tr>\n",
       "      <th>4</th>\n",
       "      <td>AIS</td>\n",
       "      <td>1</td>\n",
       "      <td>13.0</td>\n",
       "      <td>0</td>\n",
       "      <td>0</td>\n",
       "      <td>0</td>\n",
       "      <td>1.0</td>\n",
       "      <td>0.0</td>\n",
       "      <td>0.0</td>\n",
       "      <td>0.0</td>\n",
       "      <td>...</td>\n",
       "      <td>NaN</td>\n",
       "      <td>NaN</td>\n",
       "      <td>NaN</td>\n",
       "      <td>NaN</td>\n",
       "      <td>NaN</td>\n",
       "      <td>NaN</td>\n",
       "      <td>NaN</td>\n",
       "      <td>NaN</td>\n",
       "      <td>NaN</td>\n",
       "      <td>0</td>\n",
       "    </tr>\n",
       "  </tbody>\n",
       "</table>\n",
       "<p>5 rows × 25 columns</p>\n",
       "</div>"
      ],
      "text/plain": [
       "  Stroke(AIS,TIA,AHS)  Sex01  StrokeAge  gFGB  gF2  gF5  gF7VII  gF13  gITGA  \\\n",
       "0                 AIS      1        1.0     0    0    0     0.0   1.0    2.0   \n",
       "1                 AIS      1        3.0     0    0    0     0.0   0.0    2.0   \n",
       "2                 AIS      0        5.0     0    0    0     0.0   1.0    1.0   \n",
       "3                 AIS      1        0.0     0    0    0     0.0   0.0    2.0   \n",
       "4                 AIS      1       13.0     0    0    0     1.0   0.0    0.0   \n",
       "\n",
       "   gITGB     ...      gADD1 1378 G>T  gAGT T704C  gAGT C521T  gAGTR1 A 1166C  \\\n",
       "0    0.0     ...                 NaN         NaN         NaN             NaN   \n",
       "1    0.0     ...                 0.0         1.0         0.0             0.0   \n",
       "2    2.0     ...                 1.0         2.0         1.0             0.0   \n",
       "3    1.0     ...                 0.0         1.0         1.0             0.0   \n",
       "4    0.0     ...                 NaN         NaN         NaN             NaN   \n",
       "\n",
       "   gAGTR2 G1675A  gCYP11B2 C344T  gGNB3 825C>T  gNOS3 T786C  gNOS3 G894T   \\\n",
       "0            NaN             NaN           NaN          0.0           2.0   \n",
       "1            2.0             1.0           1.0          1.0           1.0   \n",
       "2            2.0             1.0           0.0          2.0           0.0   \n",
       "3            2.0             1.0           2.0          1.0           1.0   \n",
       "4            NaN             NaN           NaN          NaN           NaN   \n",
       "\n",
       "   DisNeuro01  \n",
       "0           0  \n",
       "1           0  \n",
       "2           0  \n",
       "3           0  \n",
       "4           0  \n",
       "\n",
       "[5 rows x 25 columns]"
      ]
     },
     "execution_count": 19,
     "metadata": {},
     "output_type": "execute_result"
    }
   ],
   "source": [
    "data = pd.read_excel('Data.xlsm')\n",
    "data.head()"
   ]
  },
  {
   "cell_type": "code",
   "execution_count": 20,
   "metadata": {},
   "outputs": [
    {
     "name": "stdout",
     "output_type": "stream",
     "text": [
      "<class 'pandas.core.frame.DataFrame'>\n",
      "RangeIndex: 154 entries, 0 to 153\n",
      "Data columns (total 25 columns):\n",
      "Stroke(AIS,TIA,AHS)    154 non-null object\n",
      "Sex01                  154 non-null int64\n",
      "StrokeAge              151 non-null float64\n",
      "gFGB                   154 non-null int64\n",
      "gF2                    154 non-null int64\n",
      "gF5                    154 non-null int64\n",
      "gF7VII                 148 non-null float64\n",
      "gF13                   148 non-null float64\n",
      "gITGA                  151 non-null float64\n",
      "gITGB                  152 non-null float64\n",
      "gPAI-1                 153 non-null float64\n",
      "gMTR:2756A>G           148 non-null float64\n",
      "gMTRR:66A>G            148 non-null float64\n",
      "gMTHFR677СT            152 non-null float64\n",
      "gMTHFR:1298A>C         148 non-null float64\n",
      "gADD1 1378 G>T         71 non-null float64\n",
      "gAGT T704C             72 non-null float64\n",
      "gAGT C521T             72 non-null float64\n",
      "gAGTR1 A 1166C         72 non-null float64\n",
      "gAGTR2 G1675A          72 non-null float64\n",
      "gCYP11B2 C344T         72 non-null float64\n",
      "gGNB3 825C>T           72 non-null float64\n",
      "gNOS3 T786C            81 non-null float64\n",
      "gNOS3 G894T            81 non-null float64\n",
      "DisNeuro01             154 non-null int64\n",
      "dtypes: float64(19), int64(5), object(1)\n",
      "memory usage: 30.2+ KB\n"
     ]
    }
   ],
   "source": [
    "# Краткое описание данных. Количество признаков, столбцов, типы данных\n",
    "data.info()"
   ]
  },
  {
   "cell_type": "code",
   "execution_count": 21,
   "metadata": {},
   "outputs": [
    {
     "data": {
      "text/html": [
       "<div>\n",
       "<table border=\"1\" class=\"dataframe\">\n",
       "  <thead>\n",
       "    <tr style=\"text-align: right;\">\n",
       "      <th></th>\n",
       "      <th>Sex01</th>\n",
       "      <th>StrokeAge</th>\n",
       "      <th>gFGB</th>\n",
       "      <th>gF2</th>\n",
       "      <th>gF5</th>\n",
       "      <th>gF7VII</th>\n",
       "      <th>gF13</th>\n",
       "      <th>gITGA</th>\n",
       "      <th>gITGB</th>\n",
       "      <th>gPAI-1</th>\n",
       "      <th>...</th>\n",
       "      <th>gADD1 1378 G&gt;T</th>\n",
       "      <th>gAGT T704C</th>\n",
       "      <th>gAGT C521T</th>\n",
       "      <th>gAGTR1 A 1166C</th>\n",
       "      <th>gAGTR2 G1675A</th>\n",
       "      <th>gCYP11B2 C344T</th>\n",
       "      <th>gGNB3 825C&gt;T</th>\n",
       "      <th>gNOS3 T786C</th>\n",
       "      <th>gNOS3 G894T</th>\n",
       "      <th>DisNeuro01</th>\n",
       "    </tr>\n",
       "  </thead>\n",
       "  <tbody>\n",
       "    <tr>\n",
       "      <th>count</th>\n",
       "      <td>154.000000</td>\n",
       "      <td>151.000000</td>\n",
       "      <td>154.000000</td>\n",
       "      <td>154.000000</td>\n",
       "      <td>154.000000</td>\n",
       "      <td>148.000000</td>\n",
       "      <td>148.000000</td>\n",
       "      <td>151.000000</td>\n",
       "      <td>152.000000</td>\n",
       "      <td>153.000000</td>\n",
       "      <td>...</td>\n",
       "      <td>71.000000</td>\n",
       "      <td>72.000000</td>\n",
       "      <td>72.000000</td>\n",
       "      <td>72.000000</td>\n",
       "      <td>72.000000</td>\n",
       "      <td>72.000000</td>\n",
       "      <td>72.000000</td>\n",
       "      <td>81.000000</td>\n",
       "      <td>81.000000</td>\n",
       "      <td>154.000000</td>\n",
       "    </tr>\n",
       "    <tr>\n",
       "      <th>mean</th>\n",
       "      <td>0.655844</td>\n",
       "      <td>3.350993</td>\n",
       "      <td>0.577922</td>\n",
       "      <td>0.045455</td>\n",
       "      <td>0.064935</td>\n",
       "      <td>0.162162</td>\n",
       "      <td>0.594595</td>\n",
       "      <td>0.880795</td>\n",
       "      <td>0.388158</td>\n",
       "      <td>1.176471</td>\n",
       "      <td>...</td>\n",
       "      <td>0.577465</td>\n",
       "      <td>0.958333</td>\n",
       "      <td>0.333333</td>\n",
       "      <td>0.486111</td>\n",
       "      <td>1.097222</td>\n",
       "      <td>1.125000</td>\n",
       "      <td>0.541667</td>\n",
       "      <td>1.074074</td>\n",
       "      <td>0.567901</td>\n",
       "      <td>0.474026</td>\n",
       "    </tr>\n",
       "    <tr>\n",
       "      <th>std</th>\n",
       "      <td>0.476642</td>\n",
       "      <td>4.650733</td>\n",
       "      <td>0.634338</td>\n",
       "      <td>0.208979</td>\n",
       "      <td>0.272373</td>\n",
       "      <td>0.421433</td>\n",
       "      <td>0.668411</td>\n",
       "      <td>0.692119</td>\n",
       "      <td>0.540411</td>\n",
       "      <td>0.708201</td>\n",
       "      <td>...</td>\n",
       "      <td>0.710372</td>\n",
       "      <td>0.700855</td>\n",
       "      <td>0.530745</td>\n",
       "      <td>0.581234</td>\n",
       "      <td>0.921721</td>\n",
       "      <td>0.710832</td>\n",
       "      <td>0.626583</td>\n",
       "      <td>0.720725</td>\n",
       "      <td>0.650736</td>\n",
       "      <td>0.500954</td>\n",
       "    </tr>\n",
       "    <tr>\n",
       "      <th>min</th>\n",
       "      <td>0.000000</td>\n",
       "      <td>0.000000</td>\n",
       "      <td>0.000000</td>\n",
       "      <td>0.000000</td>\n",
       "      <td>0.000000</td>\n",
       "      <td>0.000000</td>\n",
       "      <td>0.000000</td>\n",
       "      <td>0.000000</td>\n",
       "      <td>0.000000</td>\n",
       "      <td>0.000000</td>\n",
       "      <td>...</td>\n",
       "      <td>0.000000</td>\n",
       "      <td>0.000000</td>\n",
       "      <td>0.000000</td>\n",
       "      <td>0.000000</td>\n",
       "      <td>0.000000</td>\n",
       "      <td>0.000000</td>\n",
       "      <td>0.000000</td>\n",
       "      <td>0.000000</td>\n",
       "      <td>0.000000</td>\n",
       "      <td>0.000000</td>\n",
       "    </tr>\n",
       "    <tr>\n",
       "      <th>25%</th>\n",
       "      <td>0.000000</td>\n",
       "      <td>0.000000</td>\n",
       "      <td>0.000000</td>\n",
       "      <td>0.000000</td>\n",
       "      <td>0.000000</td>\n",
       "      <td>0.000000</td>\n",
       "      <td>0.000000</td>\n",
       "      <td>0.000000</td>\n",
       "      <td>0.000000</td>\n",
       "      <td>1.000000</td>\n",
       "      <td>...</td>\n",
       "      <td>0.000000</td>\n",
       "      <td>0.000000</td>\n",
       "      <td>0.000000</td>\n",
       "      <td>0.000000</td>\n",
       "      <td>0.000000</td>\n",
       "      <td>1.000000</td>\n",
       "      <td>0.000000</td>\n",
       "      <td>1.000000</td>\n",
       "      <td>0.000000</td>\n",
       "      <td>0.000000</td>\n",
       "    </tr>\n",
       "    <tr>\n",
       "      <th>50%</th>\n",
       "      <td>1.000000</td>\n",
       "      <td>1.000000</td>\n",
       "      <td>0.500000</td>\n",
       "      <td>0.000000</td>\n",
       "      <td>0.000000</td>\n",
       "      <td>0.000000</td>\n",
       "      <td>0.000000</td>\n",
       "      <td>1.000000</td>\n",
       "      <td>0.000000</td>\n",
       "      <td>1.000000</td>\n",
       "      <td>...</td>\n",
       "      <td>0.000000</td>\n",
       "      <td>1.000000</td>\n",
       "      <td>0.000000</td>\n",
       "      <td>0.000000</td>\n",
       "      <td>1.000000</td>\n",
       "      <td>1.000000</td>\n",
       "      <td>0.000000</td>\n",
       "      <td>1.000000</td>\n",
       "      <td>0.000000</td>\n",
       "      <td>0.000000</td>\n",
       "    </tr>\n",
       "    <tr>\n",
       "      <th>75%</th>\n",
       "      <td>1.000000</td>\n",
       "      <td>4.500000</td>\n",
       "      <td>1.000000</td>\n",
       "      <td>0.000000</td>\n",
       "      <td>0.000000</td>\n",
       "      <td>0.000000</td>\n",
       "      <td>1.000000</td>\n",
       "      <td>1.000000</td>\n",
       "      <td>1.000000</td>\n",
       "      <td>2.000000</td>\n",
       "      <td>...</td>\n",
       "      <td>1.000000</td>\n",
       "      <td>1.000000</td>\n",
       "      <td>1.000000</td>\n",
       "      <td>1.000000</td>\n",
       "      <td>2.000000</td>\n",
       "      <td>2.000000</td>\n",
       "      <td>1.000000</td>\n",
       "      <td>2.000000</td>\n",
       "      <td>1.000000</td>\n",
       "      <td>1.000000</td>\n",
       "    </tr>\n",
       "    <tr>\n",
       "      <th>max</th>\n",
       "      <td>1.000000</td>\n",
       "      <td>17.000000</td>\n",
       "      <td>2.000000</td>\n",
       "      <td>1.000000</td>\n",
       "      <td>2.000000</td>\n",
       "      <td>2.000000</td>\n",
       "      <td>2.000000</td>\n",
       "      <td>2.000000</td>\n",
       "      <td>2.000000</td>\n",
       "      <td>2.000000</td>\n",
       "      <td>...</td>\n",
       "      <td>2.000000</td>\n",
       "      <td>2.000000</td>\n",
       "      <td>2.000000</td>\n",
       "      <td>2.000000</td>\n",
       "      <td>2.000000</td>\n",
       "      <td>2.000000</td>\n",
       "      <td>2.000000</td>\n",
       "      <td>2.000000</td>\n",
       "      <td>2.000000</td>\n",
       "      <td>1.000000</td>\n",
       "    </tr>\n",
       "  </tbody>\n",
       "</table>\n",
       "<p>8 rows × 24 columns</p>\n",
       "</div>"
      ],
      "text/plain": [
       "            Sex01   StrokeAge        gFGB         gF2         gF5      gF7VII  \\\n",
       "count  154.000000  151.000000  154.000000  154.000000  154.000000  148.000000   \n",
       "mean     0.655844    3.350993    0.577922    0.045455    0.064935    0.162162   \n",
       "std      0.476642    4.650733    0.634338    0.208979    0.272373    0.421433   \n",
       "min      0.000000    0.000000    0.000000    0.000000    0.000000    0.000000   \n",
       "25%      0.000000    0.000000    0.000000    0.000000    0.000000    0.000000   \n",
       "50%      1.000000    1.000000    0.500000    0.000000    0.000000    0.000000   \n",
       "75%      1.000000    4.500000    1.000000    0.000000    0.000000    0.000000   \n",
       "max      1.000000   17.000000    2.000000    1.000000    2.000000    2.000000   \n",
       "\n",
       "             gF13       gITGA       gITGB      gPAI-1     ...      \\\n",
       "count  148.000000  151.000000  152.000000  153.000000     ...       \n",
       "mean     0.594595    0.880795    0.388158    1.176471     ...       \n",
       "std      0.668411    0.692119    0.540411    0.708201     ...       \n",
       "min      0.000000    0.000000    0.000000    0.000000     ...       \n",
       "25%      0.000000    0.000000    0.000000    1.000000     ...       \n",
       "50%      0.000000    1.000000    0.000000    1.000000     ...       \n",
       "75%      1.000000    1.000000    1.000000    2.000000     ...       \n",
       "max      2.000000    2.000000    2.000000    2.000000     ...       \n",
       "\n",
       "       gADD1 1378 G>T  gAGT T704C  gAGT C521T  gAGTR1 A 1166C  gAGTR2 G1675A  \\\n",
       "count       71.000000   72.000000   72.000000       72.000000      72.000000   \n",
       "mean         0.577465    0.958333    0.333333        0.486111       1.097222   \n",
       "std          0.710372    0.700855    0.530745        0.581234       0.921721   \n",
       "min          0.000000    0.000000    0.000000        0.000000       0.000000   \n",
       "25%          0.000000    0.000000    0.000000        0.000000       0.000000   \n",
       "50%          0.000000    1.000000    0.000000        0.000000       1.000000   \n",
       "75%          1.000000    1.000000    1.000000        1.000000       2.000000   \n",
       "max          2.000000    2.000000    2.000000        2.000000       2.000000   \n",
       "\n",
       "       gCYP11B2 C344T  gGNB3 825C>T  gNOS3 T786C  gNOS3 G894T   DisNeuro01  \n",
       "count       72.000000     72.000000    81.000000     81.000000  154.000000  \n",
       "mean         1.125000      0.541667     1.074074      0.567901    0.474026  \n",
       "std          0.710832      0.626583     0.720725      0.650736    0.500954  \n",
       "min          0.000000      0.000000     0.000000      0.000000    0.000000  \n",
       "25%          1.000000      0.000000     1.000000      0.000000    0.000000  \n",
       "50%          1.000000      0.000000     1.000000      0.000000    0.000000  \n",
       "75%          2.000000      1.000000     2.000000      1.000000    1.000000  \n",
       "max          2.000000      2.000000     2.000000      2.000000    1.000000  \n",
       "\n",
       "[8 rows x 24 columns]"
      ]
     },
     "execution_count": 21,
     "metadata": {},
     "output_type": "execute_result"
    }
   ],
   "source": [
    "# Стандартное отклонение, среднее, персентели\n",
    "data.describe()"
   ]
  },
  {
   "cell_type": "markdown",
   "metadata": {},
   "source": [
    "**Матрица корреляции**"
   ]
  },
  {
   "cell_type": "code",
   "execution_count": 22,
   "metadata": {},
   "outputs": [
    {
     "data": {
      "text/plain": [
       "<matplotlib.axes._subplots.AxesSubplot at 0x7f715040c7b8>"
      ]
     },
     "execution_count": 22,
     "metadata": {},
     "output_type": "execute_result"
    },
    {
     "data": {
      "image/png": "[encoded data removed]",
      "text/plain": [
       "<matplotlib.figure.Figure at 0x7f715040cf60>"
      ]
     },
     "metadata": {},
     "output_type": "display_data"
    }
   ],
   "source": [
    "f, ax = plt.subplots(figsize=(20, 8))\n",
    "corr = data.corr()\n",
    "sns.heatmap(corr, mask=np.zeros_like(corr, dtype=np.bool), cmap=sns.diverging_palette(220, 10, as_cmap=True),\n",
    "            square=True, ax=ax)"
   ]
  },
  {
   "cell_type": "code",
   "execution_count": 23,
   "metadata": {},
   "outputs": [
    {
     "data": {
      "text/plain": [
       "DisNeuro01        1.000000\n",
       "gITGB             0.138482\n",
       "gGNB3 825C>T      0.091182\n",
       "gMTHFR677СT       0.086830\n",
       "gADD1 1378 G>T    0.071442\n",
       "gITGA             0.068866\n",
       "gMTR:2756A>G      0.058541\n",
       "gFGB              0.057830\n",
       "gMTHFR:1298A>C    0.057457\n",
       "gF2               0.042567\n",
       "gNOS3 T786C       0.035752\n",
       "gAGTR2 G1675A     0.018132\n",
       "gF7VII           -0.016536\n",
       "gAGT T704C       -0.021628\n",
       "Sex01            -0.023996\n",
       "gPAI-1           -0.034895\n",
       "gMTRR:66A>G      -0.064812\n",
       "gNOS3 G894T      -0.065524\n",
       "gF5              -0.083360\n",
       "StrokeAge        -0.093313\n",
       "gCYP11B2 C344T   -0.132865\n",
       "gAGT C521T       -0.140600\n",
       "gF13             -0.166811\n",
       "gAGTR1 A 1166C   -0.241394\n",
       "Name: DisNeuro01, dtype: float64"
      ]
     },
     "execution_count": 23,
     "metadata": {},
     "output_type": "execute_result"
    }
   ],
   "source": [
    "corr[\"DisNeuro01\"].sort_values(ascending=False)"
   ]
  },
  {
   "cell_type": "markdown",
   "metadata": {},
   "source": [
    "** Предварительная подготовка данных. Отчистка и скалирование **"
   ]
  },
  {
   "cell_type": "code",
   "execution_count": 256,
   "metadata": {
    "collapsed": true
   },
   "outputs": [],
   "source": [
    "def learning_curve_model(X, Y, model, cv, train_sizes):\n",
    "\n",
    "    plt.figure(figsize=(10, 10))\n",
    "    plt.title(\"Learning curve\")\n",
    "    plt.xlabel(\"Training examples\")\n",
    "    plt.ylabel(\"Score\")\n",
    "\n",
    "\n",
    "    train_sizes, train_scores, test_scores = learning_curve(model, X, Y, cv=cv, n_jobs=4, train_sizes=train_sizes)\n",
    "\n",
    "    train_scores_mean = np.mean(train_scores, axis=1)\n",
    "    train_scores_std  = np.std(train_scores, axis=1)\n",
    "    test_scores_mean  = np.mean(test_scores, axis=1)\n",
    "    test_scores_std   = np.std(test_scores, axis=1)\n",
    "    plt.grid()\n",
    "    \n",
    "    plt.fill_between(train_sizes, train_scores_mean - train_scores_std,train_scores_mean + train_scores_std, alpha=0.1,\n",
    "                     color=\"r\")\n",
    "    plt.fill_between(train_sizes, test_scores_mean - test_scores_std,test_scores_mean + test_scores_std, alpha=0.1, color=\"g\")\n",
    "    plt.plot(train_sizes, train_scores_mean, 'o-', color=\"r\",label=\"Training score\")\n",
    "    plt.plot(train_sizes, test_scores_mean, 'o-', color=\"g\",label=\"Cross-validation score\")\n",
    "                     \n",
    "    plt.legend(loc=\"best\")\n",
    "    return plt"
   ]
  },
  {
   "cell_type": "code",
   "execution_count": 272,
   "metadata": {},
   "outputs": [],
   "source": [
    "# Убираем строки с пустыми значениями\n",
    "data = data.dropna()\n",
    "# Разбиение на предикаторы и зависимум переменную\n",
    "predicators = data.drop([\"DisNeuro01\",  \"Stroke(AIS,TIA,AHS)\"], axis=1)\n",
    "neuro = data[\"DisNeuro01\"].copy()\n",
    "# Преобразуем Stroke(AIS,TIA,AHS) \n",
    "# Разбиваем данные на train и test выборки\n",
    "predicators_train, predicators_test, neuro_train, neuro_test = train_test_split(predicators, neuro, random_state=42, test_size=.10)\n",
    "# Скалируем данные std=1 и median=0\n",
    "# TODO PIPE\n",
    "std_scaler = StandardScaler()\n",
    "std_scaler.fit(predicators_train)\n",
    "predicators_train_scaled = std_scaler.transform(predicators_train)\n",
    "predicators_test_scaled = std_scaler.transform(predicators_test)\n",
    "\n",
    "#predicators_train_scaled = predicators_train\n",
    "#predicators_test_scaled = predicators_test\n",
    "\n",
    "cv = StratifiedKFold(n_splits=3, random_state=0)"
   ]
  },
  {
   "cell_type": "markdown",
   "metadata": {},
   "source": [
    "**Логистическая регрессия**"
   ]
  },
  {
   "cell_type": "code",
   "execution_count": 273,
   "metadata": {},
   "outputs": [
    {
     "name": "stdout",
     "output_type": "stream",
     "text": [
      "Best params:  {'C': 0.70448241206030149, 'penalty': 'l1'}  best score:  0.619047619048\n"
     ]
    }
   ],
   "source": [
    "grid_search = GridSearchCV(LogisticRegression(), {\"C\": np.linspace(0.001, 20, 200), \"penalty\": [\"l2\", \"l1\"]}, cv=cv)\n",
    "grid_search.fit(predicators_train_scaled, neuro_train)\n",
    "log_reg = grid_search.best_estimator_\n",
    "print(\"Best params: \", grid_search.best_params_, \" best score: \", grid_search.best_score_)"
   ]
  },
  {
   "cell_type": "code",
   "execution_count": 274,
   "metadata": {},
   "outputs": [
    {
     "name": "stdout",
     "output_type": "stream",
     "text": [
      "На тренировочной выборке: 0.809523809524 На тестовой выборке:  0.375\n"
     ]
    }
   ],
   "source": [
    "print(\"На тренировочной выборке:\", log_reg.score(predicators_train_scaled, neuro_train), \"На тестовой выборке: \", log_reg.score(predicators_test_scaled, neuro_test))"
   ]
  },
  {
   "cell_type": "code",
   "execution_count": 275,
   "metadata": {},
   "outputs": [
    {
     "data": {
      "text/plain": [
       "<module 'pylab' from '/home/user/Desktop/machine_learning/myvenv/lib/python3.6/site-packages/pylab.py'>"
      ]
     },
     "execution_count": 275,
     "metadata": {},
     "output_type": "execute_result"
    },
    {
     "data": {
      "image/png": "[encoded data removed]",
      "text/plain": [
       "<matplotlib.figure.Figure at 0x7f714d404e80>"
      ]
     },
     "metadata": {},
     "output_type": "display_data"
    }
   ],
   "source": [
    "learning_curve_model(predicators_train_scaled, neuro_train, log_reg, cv, np.linspace(.1, 1.0, 10))"
   ]
  },
  {
   "cell_type": "code",
   "execution_count": 276,
   "metadata": {},
   "outputs": [
    {
     "data": {
      "text/plain": [
       "(-5, 5)"
      ]
     },
     "execution_count": 276,
     "metadata": {},
     "output_type": "execute_result"
    },
    {
     "data": {
      "image/png": "[encoded data removed]",
      "text/plain": [
       "<matplotlib.figure.Figure at 0x7f7150029978>"
      ]
     },
     "metadata": {},
     "output_type": "display_data"
    }
   ],
   "source": [
    "plt.figure(figsize=(15,10))\n",
    "plt.plot(log_reg.coef_.T, 'o', label='Коэффициенты логит. регресии')\n",
    "plt.xticks(range(predicators.shape[1]), predicators.columns, rotation=90)\n",
    "plt.hlines(0, 0, predicators.shape[1])\n",
    "plt.ylim(-5, 5)"
   ]
  },
  {
   "cell_type": "code",
   "execution_count": 284,
   "metadata": {},
   "outputs": [
    {
     "name": "stdout",
     "output_type": "stream",
     "text": [
      "             precision    recall  f1-score   support\n",
      "\n",
      "          0       0.82      0.77      0.79        30\n",
      "          1       0.80      0.85      0.82        33\n",
      "\n",
      "avg / total       0.81      0.81      0.81        63\n",
      "\n"
     ]
    }
   ],
   "source": [
    "pred_log_reg = log_reg.predict(predicators_train_scaled)\n",
    "confusion = confusion_matrix(neuro_train, pred_log_reg)\n",
    "print(classification_report(neuro_train, pred_log_reg))"
   ]
  },
  {
   "cell_type": "code",
   "execution_count": 282,
   "metadata": {},
   "outputs": [
    {
     "name": "stdout",
     "output_type": "stream",
     "text": [
      "F1 score:  0.823529411765\n"
     ]
    }
   ],
   "source": [
    "print(\"F1 score: \", f1_score(neuro_train, pred_log_reg))"
   ]
  },
  {
   "cell_type": "code",
   "execution_count": 292,
   "metadata": {},
   "outputs": [
    {
     "data": {
      "text/plain": [
       "<matplotlib.legend.Legend at 0x7f714d4b3b70>"
      ]
     },
     "execution_count": 292,
     "metadata": {},
     "output_type": "execute_result"
    },
    {
     "data": {
      "image/png": "[encoded data removed]",
      "text/plain": [
       "<matplotlib.figure.Figure at 0x7f714e547278>"
      ]
     },
     "metadata": {},
     "output_type": "display_data"
    }
   ],
   "source": [
    "plt.figure(figsize=(10, 10))\n",
    "fpr, tpr, thresholds = roc_curve(neuro_train, log_reg.decision_function(predicators_train_scaled))\n",
    "plt.plot(fpr, tpr, label=\"ROC Curve\")\n",
    "plt.xlabel(\"FPR\")\n",
    "plt.ylabel(\"TPR (recall)\")\n",
    "# find threshold closest to zero\n",
    "close_zero = np.argmin(np.abs(thresholds))\n",
    "plt.plot(fpr[close_zero], tpr[close_zero], 'o', markersize=10,\n",
    "label=\"threshold zero\", fillstyle=\"none\", c='k', mew=2)\n",
    "plt.legend(loc=4)"
   ]
  },
  {
   "cell_type": "code",
   "execution_count": null,
   "metadata": {
    "collapsed": true
   },
   "outputs": [],
   "source": []
  }
 ],
 "metadata": {
  "kernelspec": {
   "display_name": "Python 3",
   "language": "python",
   "name": "python3"
  },
  "language_info": {
   "codemirror_mode": {
    "name": "ipython",
    "version": 3
   },
   "file_extension": ".py",
   "mimetype": "text/x-python",
   "name": "python",
   "nbconvert_exporter": "python",
   "pygments_lexer": "ipython3",
   "version": "3.6.1"
  }
 },
 "nbformat": 4,
 "nbformat_minor": 2
}
